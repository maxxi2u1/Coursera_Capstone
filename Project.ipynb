{
 "cells": [
  {
   "cell_type": "markdown",
   "metadata": {},
   "source": [
    "# Problem Statement \n"
   ]
  },
  {
   "cell_type": "markdown",
   "metadata": {},
   "source": [
    "1. Using the Dataset the Seattle Government will be trying to project the course actions that needs to be taken to avoid the road accidents.\n",
    "2. There are various factors that leads to road accidents. We can categorize them in 2 main types. a. Accidents caused by Human error. b. Accidents caused by uncontrolled/external/environmantal factors.\n",
    "3. We would especially focus on the second catergory, assuming human error is an individual responsilbility.\n",
    "4. This data can be used to guide the target audience which is the local population to make rightful decisions, through which the accidents can be avoided."
   ]
  },
  {
   "cell_type": "code",
   "execution_count": null,
   "metadata": {},
   "outputs": [],
   "source": []
  }
 ],
 "metadata": {
  "kernelspec": {
   "display_name": "Python 3.7",
   "language": "python",
   "name": "python3"
  },
  "language_info": {
   "codemirror_mode": {
    "name": "ipython",
    "version": 3
   },
   "file_extension": ".py",
   "mimetype": "text/x-python",
   "name": "python",
   "nbconvert_exporter": "python",
   "pygments_lexer": "ipython3",
   "version": "3.7.9"
  }
 },
 "nbformat": 4,
 "nbformat_minor": 1
}
